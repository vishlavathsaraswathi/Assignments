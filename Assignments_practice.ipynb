{
 "cells": [
  {
   "cell_type": "code",
   "execution_count": 1,
   "id": "b155713d",
   "metadata": {},
   "outputs": [
    {
     "name": "stdout",
     "output_type": "stream",
     "text": [
      "[1, 8, 2, 2, 1, 4, 3, 2]\n",
      "23\n"
     ]
    }
   ],
   "source": [
    "#Find sum of element wise difference between two lists using Python\n",
    "\n",
    "list1 = [5,12,5,6,2,6,7,8]\n",
    "list2 = [6,4,3,8,1,2,4,6]\n",
    "subtract=list()\n",
    "for i,j in zip(list1,list2):\n",
    "    if i<j:\n",
    "        subtract.append(j-i)\n",
    "    elif i>j:\n",
    "        subtract.append(i-j)\n",
    "#print(subtract)  \n",
    "z=subtract\n",
    "print(z)\n",
    "sum=0\n",
    "for k in z:\n",
    "    sum+=k\n",
    "print(sum)    \n",
    "    "
   ]
  },
  {
   "cell_type": "code",
   "execution_count": 1,
   "id": "e4749a6b",
   "metadata": {},
   "outputs": [
    {
     "name": "stdout",
     "output_type": "stream",
     "text": [
      "[1, 8, 2, 2, 1, 4, 3, 2]\n"
     ]
    },
    {
     "data": {
      "text/plain": [
       "23"
      ]
     },
     "execution_count": 1,
     "metadata": {},
     "output_type": "execute_result"
    }
   ],
   "source": [
    "list1 = [5,12,5,6,2,6,7,8]\n",
    "list2 = [6,4,3,8,1,2,4,6]\n",
    "subtract=list()\n",
    "for i,j in zip(list1,list2):\n",
    "    if i<j:\n",
    "        subtract.append(j-i)\n",
    "    elif i>j:\n",
    "        subtract.append(i-j)\n",
    "print(subtract)  \n",
    "sum(subtract)"
   ]
  },
  {
   "cell_type": "markdown",
   "id": "994e9ccc",
   "metadata": {},
   "source": [
    "### Create a Function which can take any number of numerical arguments, calculate Arithmetic Mean, Geometric Mean and Harmonic Mean"
   ]
  },
  {
   "cell_type": "code",
   "execution_count": 28,
   "id": "9294a47c",
   "metadata": {},
   "outputs": [
    {
     "name": "stdout",
     "output_type": "stream",
     "text": [
      "Arithmetic Mean of n number is:  2.0\n",
      "Geometric Mean of n number is:  1.8171205928321397\n",
      "Harmonic mean of n number is:  1.6363636363636365\n"
     ]
    }
   ],
   "source": [
    "def avg(*n):\n",
    "    sum=0\n",
    "    for t in n:\n",
    "        sum = sum + t\n",
    "    arithmetic_mean = sum / len(n)\n",
    "    print(\"Arithmetic Mean of n number is: \",arithmetic_mean)\n",
    "    \n",
    "    multiply=1\n",
    "    for i in n:\n",
    "        multiply=multiply*i\n",
    "    geometric_mean = (multiply)**(1/len(n))\n",
    "    print(\"Geometric Mean of n number is: \",geometric_mean)\n",
    "    \n",
    "    sum1 = 0.0\n",
    "    for i in n:\n",
    "        sum1 += 1.0 / i\n",
    "    harmonic_mean=len(n) / sum1\n",
    "    print(\"Harmonic mean of n number is: \",harmonic_mean)\n",
    "        \n",
    "avg(1,2,3) "
   ]
  },
  {
   "cell_type": "code",
   "execution_count": 29,
   "id": "ab78d860",
   "metadata": {},
   "outputs": [
    {
     "data": {
      "text/plain": [
       "2.0"
      ]
     },
     "execution_count": 29,
     "metadata": {},
     "output_type": "execute_result"
    }
   ],
   "source": [
    "def arithmetic_mean(my_list):\n",
    "    sum = 0\n",
    "    for i in my_list:\n",
    "        sum = sum+i\n",
    "    return sum/len(my_list) \n",
    "arithmetic_mean([1,2,3])"
   ]
  },
  {
   "cell_type": "code",
   "execution_count": 30,
   "id": "2ba8b155",
   "metadata": {},
   "outputs": [
    {
     "data": {
      "text/plain": [
       "1.8171205928321397"
      ]
     },
     "execution_count": 30,
     "metadata": {},
     "output_type": "execute_result"
    }
   ],
   "source": [
    "def geometric_mean(my_list):\n",
    "    multiply=1\n",
    "    for i in my_list:\n",
    "        multiply=multiply*i\n",
    "    return (multiply)**(1/len(my_list))\n",
    "geometric_mean([1,2,3])"
   ]
  },
  {
   "cell_type": "code",
   "execution_count": 27,
   "id": "835cd931",
   "metadata": {},
   "outputs": [
    {
     "data": {
      "text/plain": [
       "1.6363636363636365"
      ]
     },
     "execution_count": 27,
     "metadata": {},
     "output_type": "execute_result"
    }
   ],
   "source": [
    "def harmonic_mean(my_list):\n",
    "    sum = 0.0\n",
    "    for i in my_list:\n",
    "        sum += 1.0 / i\n",
    "    return len(my_list) / sum\n",
    "harmonic_mean([1,2,3])\n",
    "\n",
    " "
   ]
  },
  {
   "cell_type": "markdown",
   "id": "ee86f049",
   "metadata": {},
   "source": [
    "#### Create a Function, which takes three arguments, first argument should be dictionary, second argument should be integer, third argument should be another dictionary. Based on the integer value (consider this as index, which starts at 0), insert new dictionary values at index position in first dictionary, and return new dictionary"
   ]
  },
  {
   "cell_type": "code",
   "execution_count": 50,
   "id": "50bb3f09",
   "metadata": {},
   "outputs": [
    {
     "name": "stdout",
     "output_type": "stream",
     "text": [
      "enter the b value: 4\n",
      "{'a': 'apple', 'b': 'bat', 'c': 'cat', 'd': 'dog', 'one': 1, 'two': 2, 'three': 3}\n"
     ]
    }
   ],
   "source": [
    "def function1(a,b,c):\n",
    "    y=0\n",
    "    k={}\n",
    "    if b < len(a):\n",
    "        for x in list(a.keys()):\n",
    "            if b==y:\n",
    "                k.update(c)\n",
    "            k[x]=a[x]\n",
    "            y+=1\n",
    "        print(k)\n",
    "    else:\n",
    "        a.update(c)\n",
    "        print(a)\n",
    "                \n",
    "a={\"a\":\"apple\",\"b\":\"bat\",\"c\":\"cat\",\"d\":\"dog\"}\n",
    "b=int(input(\"enter the b value: \"))\n",
    "c={\"one\":1,\"two\":2,\"three\":3}\n",
    "\n",
    "function1(a,b,c)        "
   ]
  },
  {
   "cell_type": "markdown",
   "id": "2bf910f8",
   "metadata": {},
   "source": [
    "#### Create a Function which takes two lists as parameters, check whether two lists of same length, if not same length return not same lenght. otherwise sort the first list in ascending order and also sort the second list in liue of list 1"
   ]
  },
  {
   "cell_type": "code",
   "execution_count": 1,
   "id": "e4a9c64e",
   "metadata": {},
   "outputs": [
    {
     "name": "stdout",
     "output_type": "stream",
     "text": [
      "list1 sorted order is: [1, 2, 6, 10, 13, 32, 45, 67]\n",
      "list2 order updated based on list1 sorted index: [54, 9, 8, 3, 12, 98, 54, 322]\n"
     ]
    }
   ],
   "source": [
    "def function1(list1,list2):\n",
    "    if len(list1)!=len(list2):\n",
    "        print(\"lenght of list is not same\")\n",
    "    else:   \n",
    "        a = list((list1))\n",
    "        a.sort()\n",
    "        print(\"list1 sorted order is:\",a)\n",
    "        res = []\n",
    "        for i in a:\n",
    "            for j in range(0, len(list1)):\n",
    "                if(list1[j] == i):\n",
    "                    res.append(list2[j])\n",
    "        print(\"list2 order updated based on list1 sorted index:\",res)\n",
    "\n",
    "list1 = [6,10,2,13,45,67,32,1]   #l1_sorted = [1,2,6,10,13,32,45,67]\n",
    "list2 = [8,3,9,12,54,322,98,54]\n",
    "function1(list1,list2)"
   ]
  },
  {
   "cell_type": "markdown",
   "id": "e86b3785",
   "metadata": {},
   "source": [
    "#### create a function, which takes string as argument, create all combinations"
   ]
  },
  {
   "cell_type": "code",
   "execution_count": 5,
   "id": "f2ddbcb9",
   "metadata": {},
   "outputs": [
    {
     "name": "stdout",
     "output_type": "stream",
     "text": [
      "a,\n",
      "ab,\n",
      "abc,\n",
      "abcd,\n",
      "abcde,\n",
      "abcdef,\n",
      "abcdefg,\n",
      "b,\n",
      "bc,\n",
      "bcd,\n",
      "bcde,\n",
      "bcdef,\n",
      "bcdefg,\n",
      "c,\n",
      "cd,\n",
      "cde,\n",
      "cdef,\n",
      "cdefg,\n",
      "d,\n",
      "de,\n",
      "def,\n",
      "defg,\n",
      "e,\n",
      "ef,\n",
      "efg,\n",
      "f,\n",
      "fg,\n",
      "g,\n"
     ]
    }
   ],
   "source": [
    "\"\"\"\n",
    "Ex: abcdefg\n",
    "ans should be:\n",
    "a, ab, abc, abcd, abcde, abcdef, abcdefg,\n",
    "b, bc, bcd, bcde, bcdef, bcdefg,\n",
    "c, cd, cde, cdef, cdefg, \n",
    "d, de, def, defg, \n",
    "e, ef, efg,\n",
    "f, fg\n",
    "g\n",
    "\"\"\"\n",
    "\n",
    "x=\"abcdefg\"\n",
    "def str(x):\n",
    "    for i in range(len(x)):\n",
    "        for j in range(i,len(x)):\n",
    "            print(x[i:j+1],end=\",\\n\")\n",
    "str(x)            "
   ]
  },
  {
   "cell_type": "code",
   "execution_count": null,
   "id": "5be5d5f4",
   "metadata": {},
   "outputs": [],
   "source": []
  }
 ],
 "metadata": {
  "kernelspec": {
   "display_name": "Python 3 (ipykernel)",
   "language": "python",
   "name": "python3"
  },
  "language_info": {
   "codemirror_mode": {
    "name": "ipython",
    "version": 3
   },
   "file_extension": ".py",
   "mimetype": "text/x-python",
   "name": "python",
   "nbconvert_exporter": "python",
   "pygments_lexer": "ipython3",
   "version": "3.9.13"
  }
 },
 "nbformat": 4,
 "nbformat_minor": 5
}
