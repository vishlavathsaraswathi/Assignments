{
 "cells": [
  {
   "cell_type": "code",
   "execution_count": 1,
   "id": "b155713d",
   "metadata": {},
   "outputs": [
    {
     "name": "stdout",
     "output_type": "stream",
     "text": [
      "[1, 8, 2, 2, 1, 4, 3, 2]\n",
      "23\n"
     ]
    }
   ],
   "source": [
    "#Find sum of element wise difference between two lists using Python\n",
    "\n",
    "list1 = [5,12,5,6,2,6,7,8]\n",
    "list2 = [6,4,3,8,1,2,4,6]\n",
    "subtract=list()\n",
    "for i,j in zip(list1,list2):\n",
    "    if i<j:\n",
    "        subtract.append(j-i)\n",
    "    elif i>j:\n",
    "        subtract.append(i-j)\n",
    "#print(subtract)  \n",
    "z=subtract\n",
    "print(z)\n",
    "sum=0\n",
    "for k in z:\n",
    "    sum+=k\n",
    "print(sum)    \n",
    "    "
   ]
  },
  {
   "cell_type": "code",
   "execution_count": 1,
   "id": "e4749a6b",
   "metadata": {},
   "outputs": [
    {
     "name": "stdout",
     "output_type": "stream",
     "text": [
      "[1, 8, 2, 2, 1, 4, 3, 2]\n"
     ]
    },
    {
     "data": {
      "text/plain": [
       "23"
      ]
     },
     "execution_count": 1,
     "metadata": {},
     "output_type": "execute_result"
    }
   ],
   "source": [
    "list1 = [5,12,5,6,2,6,7,8]\n",
    "list2 = [6,4,3,8,1,2,4,6]\n",
    "subtract=list()\n",
    "for i,j in zip(list1,list2):\n",
    "    if i<j:\n",
    "        subtract.append(j-i)\n",
    "    elif i>j:\n",
    "        subtract.append(i-j)\n",
    "print(subtract)  \n",
    "sum(subtract)"
   ]
  },
  {
   "cell_type": "markdown",
   "id": "994e9ccc",
   "metadata": {},
   "source": [
    "### Create a Function which can take any number of numerical arguments, calculate Arithmetic Mean, Geometric Mean and Harmonic Mean"
   ]
  },
  {
   "cell_type": "code",
   "execution_count": 28,
   "id": "9294a47c",
   "metadata": {},
   "outputs": [
    {
     "name": "stdout",
     "output_type": "stream",
     "text": [
      "Arithmetic Mean of n number is:  2.0\n",
      "Geometric Mean of n number is:  1.8171205928321397\n",
      "Harmonic mean of n number is:  1.6363636363636365\n"
     ]
    }
   ],
   "source": [
    "def avg(*n):\n",
    "    sum=0\n",
    "    for t in n:\n",
    "        sum = sum + t\n",
    "    arithmetic_mean = sum / len(n)\n",
    "    print(\"Arithmetic Mean of n number is: \",arithmetic_mean)\n",
    "    \n",
    "    multiply=1\n",
    "    for i in n:\n",
    "        multiply=multiply*i\n",
    "    geometric_mean = (multiply)**(1/len(n))\n",
    "    print(\"Geometric Mean of n number is: \",geometric_mean)\n",
    "    \n",
    "    sum1 = 0.0\n",
    "    for i in n:\n",
    "        sum1 += 1.0 / i\n",
    "    harmonic_mean=len(n) / sum1\n",
    "    print(\"Harmonic mean of n number is: \",harmonic_mean)\n",
    "        \n",
    "avg(1,2,3) "
   ]
  },
  {
   "cell_type": "code",
   "execution_count": 29,
   "id": "ab78d860",
   "metadata": {},
   "outputs": [
    {
     "data": {
      "text/plain": [
       "2.0"
      ]
     },
     "execution_count": 29,
     "metadata": {},
     "output_type": "execute_result"
    }
   ],
   "source": [
    "def arithmetic_mean(my_list):\n",
    "    sum = 0\n",
    "    for i in my_list:\n",
    "        sum = sum+i\n",
    "    return sum/len(my_list) \n",
    "arithmetic_mean([1,2,3])"
   ]
  },
  {
   "cell_type": "code",
   "execution_count": 30,
   "id": "2ba8b155",
   "metadata": {},
   "outputs": [
    {
     "data": {
      "text/plain": [
       "1.8171205928321397"
      ]
     },
     "execution_count": 30,
     "metadata": {},
     "output_type": "execute_result"
    }
   ],
   "source": [
    "def geometric_mean(my_list):\n",
    "    multiply=1\n",
    "    for i in my_list:\n",
    "        multiply=multiply*i\n",
    "    return (multiply)**(1/len(my_list))\n",
    "geometric_mean([1,2,3])"
   ]
  },
  {
   "cell_type": "code",
   "execution_count": 27,
   "id": "835cd931",
   "metadata": {},
   "outputs": [
    {
     "data": {
      "text/plain": [
       "1.6363636363636365"
      ]
     },
     "execution_count": 27,
     "metadata": {},
     "output_type": "execute_result"
    }
   ],
   "source": [
    "def harmonic_mean(my_list):\n",
    "    sum = 0.0\n",
    "    for i in my_list:\n",
    "        sum += 1.0 / i\n",
    "    return len(my_list) / sum\n",
    "harmonic_mean([1,2,3])\n",
    "\n",
    " "
   ]
  },
  {
   "cell_type": "markdown",
   "id": "ee86f049",
   "metadata": {},
   "source": [
    "#### Create a Function, which takes three arguments, first argument should be dictionary, second argument should be integer, third argument should be another dictionary. Based on the integer value (consider this as index, which starts at 0), insert new dictionary values at index position in first dictionary, and return new dictionary"
   ]
  },
  {
   "cell_type": "code",
   "execution_count": 50,
   "id": "50bb3f09",
   "metadata": {},
   "outputs": [
    {
     "name": "stdout",
     "output_type": "stream",
     "text": [
      "enter the b value: 4\n",
      "{'a': 'apple', 'b': 'bat', 'c': 'cat', 'd': 'dog', 'one': 1, 'two': 2, 'three': 3}\n"
     ]
    }
   ],
   "source": [
    "def function1(a,b,c):\n",
    "    y=0\n",
    "    k={}\n",
    "    if b < len(a):\n",
    "        for x in list(a.keys()):\n",
    "            if b==y:\n",
    "                k.update(c)\n",
    "            k[x]=a[x]\n",
    "            y+=1\n",
    "        print(k)\n",
    "    else:\n",
    "        a.update(c)\n",
    "        print(a)\n",
    "                \n",
    "a={\"a\":\"apple\",\"b\":\"bat\",\"c\":\"cat\",\"d\":\"dog\"}\n",
    "b=int(input(\"enter the b value: \"))\n",
    "c={\"one\":1,\"two\":2,\"three\":3}\n",
    "\n",
    "function1(a,b,c)        "
   ]
  },
  {
   "cell_type": "markdown",
   "id": "2bf910f8",
   "metadata": {},
   "source": [
    "#### Create a Function which takes two lists as parameters, check whether two lists of same length, if not same length return not same lenght. otherwise sort the first list in ascending order and also sort the second list in liue of list 1"
   ]
  },
  {
   "cell_type": "code",
   "execution_count": 1,
   "id": "e4a9c64e",
   "metadata": {},
   "outputs": [
    {
     "name": "stdout",
     "output_type": "stream",
     "text": [
      "list1 sorted order is: [1, 2, 6, 10, 13, 32, 45, 67]\n",
      "list2 order updated based on list1 sorted index: [54, 9, 8, 3, 12, 98, 54, 322]\n"
     ]
    }
   ],
   "source": [
    "def function1(list1,list2):\n",
    "    if len(list1)!=len(list2):\n",
    "        print(\"lenght of list is not same\")\n",
    "    else:   \n",
    "        a = list((list1))\n",
    "        a.sort()\n",
    "        print(\"list1 sorted order is:\",a)\n",
    "        res = []\n",
    "        for i in a:\n",
    "            for j in range(0, len(list1)):\n",
    "                if(list1[j] == i):\n",
    "                    res.append(list2[j])\n",
    "        print(\"list2 order updated based on list1 sorted index:\",res)\n",
    "\n",
    "list1 = [6,10,2,13,45,67,32,1]   #l1_sorted = [1,2,6,10,13,32,45,67]\n",
    "list2 = [8,3,9,12,54,322,98,54]\n",
    "function1(list1,list2)"
   ]
  },
  {
   "cell_type": "markdown",
   "id": "e86b3785",
   "metadata": {},
   "source": [
    "#### create a function, which takes string as argument, create all combinations"
   ]
  },
  {
   "cell_type": "code",
   "execution_count": 5,
   "id": "f2ddbcb9",
   "metadata": {},
   "outputs": [
    {
     "name": "stdout",
     "output_type": "stream",
     "text": [
      "a,\n",
      "ab,\n",
      "abc,\n",
      "abcd,\n",
      "abcde,\n",
      "abcdef,\n",
      "abcdefg,\n",
      "b,\n",
      "bc,\n",
      "bcd,\n",
      "bcde,\n",
      "bcdef,\n",
      "bcdefg,\n",
      "c,\n",
      "cd,\n",
      "cde,\n",
      "cdef,\n",
      "cdefg,\n",
      "d,\n",
      "de,\n",
      "def,\n",
      "defg,\n",
      "e,\n",
      "ef,\n",
      "efg,\n",
      "f,\n",
      "fg,\n",
      "g,\n"
     ]
    }
   ],
   "source": [
    "\"\"\"\n",
    "Ex: abcdefg\n",
    "ans should be:\n",
    "a, ab, abc, abcd, abcde, abcdef, abcdefg,\n",
    "b, bc, bcd, bcde, bcdef, bcdefg,\n",
    "c, cd, cde, cdef, cdefg, \n",
    "d, de, def, defg, \n",
    "e, ef, efg,\n",
    "f, fg\n",
    "g\n",
    "\"\"\"\n",
    "\n",
    "x=\"abcdefg\"\n",
    "def str(x):\n",
    "    for i in range(len(x)):\n",
    "        for j in range(i,len(x)):\n",
    "            print(x[i:j+1],end=\",\\n\")\n",
    "str(x)            "
   ]
  },
  {
   "cell_type": "markdown",
   "id": "034a4447",
   "metadata": {},
   "source": [
    "#### Write a Python function that generates all possible subsets of a given list recursively. For example, if the input list is [1, 2, 3], the output should be [], [1], [2], [3], [1, 2], [1, 3], [2, 3], [1, 2, 3]."
   ]
  },
  {
   "cell_type": "code",
   "execution_count": 1,
   "id": "2672d708",
   "metadata": {},
   "outputs": [
    {
     "name": "stdout",
     "output_type": "stream",
     "text": [
      "[[], [3], [2], [2, 3], [1], [1, 3], [1, 2], [1, 2, 3]]\n"
     ]
    }
   ],
   "source": [
    "def subsetFunction(x):\n",
    "    if x == []:\n",
    "        return [[]]\n",
    "    else:\n",
    "        a = subsetFunction(x[1:])\n",
    "        return a + [ [x[0]] + b for b in a]\n",
    "list1=[1,2,3]\n",
    "y = subsetFunction(list1)\n",
    "print(y)"
   ]
  },
  {
   "cell_type": "markdown",
   "id": "161708c0",
   "metadata": {},
   "source": [
    "#### Create class statistics and create all functions given a list of numbers. Functions should include min, max, range, sum, mean ,median, mean absolute deviation, Variance, Standard deviation, skewness, kurtosis, z score of each data point, Given two lists calculate covariance and correlation"
   ]
  },
  {
   "cell_type": "code",
   "execution_count": 1,
   "id": "83973a71",
   "metadata": {},
   "outputs": [],
   "source": [
    "class statistics:\n",
    "    def __init__(self,*args):\n",
    "        self.args = args\n",
    "        \n",
    "    def min1(self):\n",
    "        a=min(self.args)\n",
    "        print(\"minimum value is:\",a)\n",
    "        \n",
    "    def max1(self):\n",
    "        b = max(self.args)\n",
    "        print(\"maximum value is: \",b)\n",
    "        \n",
    "    def range1(self):\n",
    "        c = max(self.args) - min(self.args)\n",
    "        print(\"range value is:\",c)\n",
    "        \n",
    "    def sum1(self):\n",
    "        d = sum(self.args)\n",
    "        print(\"sum value is: \",d)\n",
    "        \n",
    "    def mean1(self):\n",
    "        e = sum(self.args)/len(self.args)\n",
    "        print(\"mean value is: \",e)\n",
    "        \n",
    "        \n",
    "    def median(self):\n",
    "        x= list(self.args)\n",
    "        x.sort()\n",
    "        if len(x)%2 == 0:\n",
    "            median = (x[(len(x)-1)//2] + x[((len(x)-1)//2)+1])/2\n",
    "        else:\n",
    "            median = x[(len(x))//2]\n",
    "        print(\"median value is: \",median)    \n",
    "        \n",
    "    def meanAbsoluteDeviation(self):\n",
    "        p = sum(self.args)/len(self.args)\n",
    "        s = 0\n",
    "        for i in self.args:\n",
    "            s+=abs(i-p)\n",
    "        meanAbsdev = s/len(self.args)\n",
    "        print(\"mean absolute value is: \",meanAbsdev)\n",
    "        \n",
    "    def variance(self):\n",
    "        q = sum(self.args)/len(self.args)\n",
    "        s = 0\n",
    "        for i in self.args:\n",
    "            s+=(i-q)**2\n",
    "        variance = s/len(self.args)\n",
    "        print(\"variance value is: \",variance)\n",
    "        \n",
    "    def standard_deviation(self):    \n",
    "        x = sum(self.args)/len(self.args)\n",
    "        s = 0\n",
    "        for i in self.args:\n",
    "            s+=(i-x)**2\n",
    "        variance = s/len(self.args)\n",
    "        standard_deviation = variance **0.5\n",
    "        print(\"standard_deviation value is: \",standard_deviation)\n",
    "        \n",
    "    def populationVariance(self):\n",
    "        r = sum(self.args)/len(self.args)\n",
    "        s = 0\n",
    "        for i in self.args:\n",
    "            s+=(i-r)**2\n",
    "        pop_Varaiance = s/len(self.args)\n",
    "        print(\"population Variance is: \",pop_Varaiance) \n",
    "        \n",
    "    def sampleVariance(self):\n",
    "        l = sum(self.args)/len(self.args)\n",
    "        s = 0\n",
    "        for i in self.args:\n",
    "            s+=(i-l)**2\n",
    "        sample_Varaiance = s/(len(self.args)-1)\n",
    "        print(\"sample variance is: \",sample_Varaiance) \n",
    "        \n",
    "    def moment(self):\n",
    "        m = sum(self.args)/len(self.args)\n",
    "        s = 0\n",
    "        for i in self.args:\n",
    "            s+=(i-m)**4 \n",
    "        moment = s/len(self.args) \n",
    "        print(\"moment value is: \",moment)\n",
    "        \n",
    "    def skewness(self):\n",
    "        n = sum(self.args)/len(self.args)\n",
    "        s = 0\n",
    "        for i in self.args:\n",
    "            s+=(i-n)**3 \n",
    "        skewness = s/len(self.args)\n",
    "        print(\"skewness value is: \",skewness)\n",
    "        \n",
    "    def kurtosis(self):\n",
    "        f = sum(self.args)/len(self.args)\n",
    "        s=0\n",
    "        x=0\n",
    "        for i in self.args:\n",
    "            s+=(i-f)**4\n",
    "            x+=((i-f)**2)\n",
    "        kurtosis = ((s/len(self.args)))/((x/len(self.args)))**2\n",
    "        print(\"kurtosis value is: \",kurtosis)\n",
    "        \n",
    "    def z_Score(self):\n",
    "        x = sum(self.args)/len(self.args)\n",
    "        s = 0\n",
    "        zscore=[]\n",
    "        for i in self.args:\n",
    "            s+=(i-x)**2\n",
    "        variance = s/len(self.args)\n",
    "        standard_deviation = variance **0.5\n",
    "        \n",
    "        for i in self.args:\n",
    "            a=(i-x)/standard_deviation \n",
    "            zscore.append(a)   \n",
    "        print(zscore)\n",
    "\n",
    "    def covariance(self, l1, l2):\n",
    "        self.l1=l1\n",
    "        self.l2=l2\n",
    "        mean_l1=sum(l1)/len(l1)\n",
    "        mean_l2=sum(l2)/len(l2)\n",
    "        s=0\n",
    "        for i in range(len(l1)):\n",
    "            s+=((l1[i]-mean_l1) * (l2[i] - mean_l2))\n",
    "        covariance=s/len(l1)\n",
    "        print(\"covariance of two list is: \",covariance)\n",
    "        \n",
    "    def correlation(self, l1, l2):\n",
    "        self.l1=l1\n",
    "        self.l2=l2\n",
    "        mean_l1=sum(l1)/len(l1)\n",
    "        mean_l2=sum(l2)/len(l2)\n",
    "        s,suml1,suml2 = 0, 0, 0\n",
    "        for i in range(len(l1)):\n",
    "            s+=((l1[i] - mean_l1) * (l2[i] - mean_l2))\n",
    "            suml1 = ((l1[i] - mean_l1)**2)\n",
    "            suml2 = ((l2[i] - mean_l2)**2)\n",
    "        correlation = s/((suml1 * 0.5) * (suml2 * 0.5))\n",
    "        print(\"correlation value is: \",correlation)\n",
    "        \n",
    "        "
   ]
  },
  {
   "cell_type": "code",
   "execution_count": 2,
   "id": "800297b4",
   "metadata": {},
   "outputs": [],
   "source": [
    "p1=statistics(1,8,9,4,5,10)"
   ]
  },
  {
   "cell_type": "code",
   "execution_count": 3,
   "id": "945d5206",
   "metadata": {},
   "outputs": [
    {
     "name": "stdout",
     "output_type": "stream",
     "text": [
      "minimum value is: 1\n"
     ]
    }
   ],
   "source": [
    "p1.min1()"
   ]
  },
  {
   "cell_type": "code",
   "execution_count": 4,
   "id": "7bc980f6",
   "metadata": {},
   "outputs": [
    {
     "name": "stdout",
     "output_type": "stream",
     "text": [
      "maximum value is:  10\n"
     ]
    }
   ],
   "source": [
    "p1.max1()"
   ]
  },
  {
   "cell_type": "code",
   "execution_count": 5,
   "id": "0ba34745",
   "metadata": {},
   "outputs": [
    {
     "name": "stdout",
     "output_type": "stream",
     "text": [
      "mean value is:  6.166666666666667\n"
     ]
    }
   ],
   "source": [
    "p1.mean1()"
   ]
  },
  {
   "cell_type": "code",
   "execution_count": 6,
   "id": "8c3285ec",
   "metadata": {},
   "outputs": [
    {
     "name": "stdout",
     "output_type": "stream",
     "text": [
      "sum value is:  37\n"
     ]
    }
   ],
   "source": [
    "p1.sum1()"
   ]
  },
  {
   "cell_type": "code",
   "execution_count": 7,
   "id": "477986c8",
   "metadata": {},
   "outputs": [
    {
     "name": "stdout",
     "output_type": "stream",
     "text": [
      "range value is: 9\n"
     ]
    }
   ],
   "source": [
    "p1.range1()"
   ]
  },
  {
   "cell_type": "code",
   "execution_count": 8,
   "id": "8d71ec97",
   "metadata": {},
   "outputs": [
    {
     "name": "stdout",
     "output_type": "stream",
     "text": [
      "median value is:  6.5\n"
     ]
    }
   ],
   "source": [
    "p1.median()"
   ]
  },
  {
   "cell_type": "code",
   "execution_count": 9,
   "id": "fa2b997e",
   "metadata": {},
   "outputs": [
    {
     "name": "stdout",
     "output_type": "stream",
     "text": [
      "mean absolute value is:  2.8333333333333335\n"
     ]
    }
   ],
   "source": [
    "p1.meanAbsoluteDeviation()"
   ]
  },
  {
   "cell_type": "code",
   "execution_count": 10,
   "id": "cda354de",
   "metadata": {},
   "outputs": [
    {
     "name": "stdout",
     "output_type": "stream",
     "text": [
      "variance value is:  9.805555555555555\n"
     ]
    }
   ],
   "source": [
    "p1.variance()"
   ]
  },
  {
   "cell_type": "code",
   "execution_count": 11,
   "id": "9204edd3",
   "metadata": {},
   "outputs": [
    {
     "name": "stdout",
     "output_type": "stream",
     "text": [
      "standard_deviation value is:  3.131382371342656\n"
     ]
    }
   ],
   "source": [
    "p1.standard_deviation()"
   ]
  },
  {
   "cell_type": "code",
   "execution_count": 12,
   "id": "e989eb86",
   "metadata": {},
   "outputs": [
    {
     "name": "stdout",
     "output_type": "stream",
     "text": [
      "population Variance is:  9.805555555555555\n"
     ]
    }
   ],
   "source": [
    "p1.populationVariance()"
   ]
  },
  {
   "cell_type": "code",
   "execution_count": 13,
   "id": "d5cbf782",
   "metadata": {},
   "outputs": [
    {
     "name": "stdout",
     "output_type": "stream",
     "text": [
      "sample variance is:  11.766666666666667\n"
     ]
    }
   ],
   "source": [
    "p1.sampleVariance()"
   ]
  },
  {
   "cell_type": "code",
   "execution_count": 14,
   "id": "91e56138",
   "metadata": {},
   "outputs": [
    {
     "name": "stdout",
     "output_type": "stream",
     "text": [
      "moment value is:  171.3587962962963\n"
     ]
    }
   ],
   "source": [
    "p1.moment()"
   ]
  },
  {
   "cell_type": "code",
   "execution_count": 15,
   "id": "992ac90b",
   "metadata": {},
   "outputs": [
    {
     "name": "stdout",
     "output_type": "stream",
     "text": [
      "skewness value is:  -10.740740740740753\n"
     ]
    }
   ],
   "source": [
    "p1.skewness()"
   ]
  },
  {
   "cell_type": "code",
   "execution_count": 16,
   "id": "96ae1596",
   "metadata": {},
   "outputs": [
    {
     "name": "stdout",
     "output_type": "stream",
     "text": [
      "kurtosis value is:  1.7822227928961794\n"
     ]
    }
   ],
   "source": [
    "p1.kurtosis()"
   ]
  },
  {
   "cell_type": "code",
   "execution_count": 17,
   "id": "5535a952",
   "metadata": {},
   "outputs": [
    {
     "name": "stdout",
     "output_type": "stream",
     "text": [
      "covariance of two list is:  45.42857142857143\n"
     ]
    }
   ],
   "source": [
    "p1.covariance((5,8,15,13,7,18,25),(2,6,3,8,12,14,30))"
   ]
  },
  {
   "cell_type": "code",
   "execution_count": 18,
   "id": "727157d8",
   "metadata": {},
   "outputs": [
    {
     "name": "stdout",
     "output_type": "stream",
     "text": [
      "correlation value is:  3.6734693877551012\n"
     ]
    }
   ],
   "source": [
    "p1.correlation((1,4,6),(1,2,3))"
   ]
  },
  {
   "cell_type": "code",
   "execution_count": 19,
   "id": "d57d34eb",
   "metadata": {},
   "outputs": [],
   "source": [
    "p2=statistics(50,55,60,65,70,100,1000)"
   ]
  },
  {
   "cell_type": "code",
   "execution_count": 20,
   "id": "12cfc99c",
   "metadata": {},
   "outputs": [
    {
     "name": "stdout",
     "output_type": "stream",
     "text": [
      "[-0.4587931407588288, -0.44350003606686783, -0.4282069313749069, -0.41291382668294596, -0.39762072199098497, -0.3058620938392192, 2.4468967507137536]\n"
     ]
    }
   ],
   "source": [
    "p2.z_Score()"
   ]
  },
  {
   "cell_type": "code",
   "execution_count": null,
   "id": "0cf2236e",
   "metadata": {},
   "outputs": [],
   "source": []
  }
 ],
 "metadata": {
  "kernelspec": {
   "display_name": "Python 3 (ipykernel)",
   "language": "python",
   "name": "python3"
  },
  "language_info": {
   "codemirror_mode": {
    "name": "ipython",
    "version": 3
   },
   "file_extension": ".py",
   "mimetype": "text/x-python",
   "name": "python",
   "nbconvert_exporter": "python",
   "pygments_lexer": "ipython3",
   "version": "3.9.13"
  }
 },
 "nbformat": 4,
 "nbformat_minor": 5
}
