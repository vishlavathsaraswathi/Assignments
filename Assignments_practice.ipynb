{
 "cells": [
  {
   "cell_type": "code",
   "execution_count": 1,
   "id": "b155713d",
   "metadata": {},
   "outputs": [
    {
     "name": "stdout",
     "output_type": "stream",
     "text": [
      "[1, 8, 2, 2, 1, 4, 3, 2]\n",
      "23\n"
     ]
    }
   ],
   "source": [
    "#Find sum of element wise difference between two lists using Python\n",
    "\n",
    "list1 = [5,12,5,6,2,6,7,8]\n",
    "list2 = [6,4,3,8,1,2,4,6]\n",
    "subtract=list()\n",
    "for i,j in zip(list1,list2):\n",
    "    if i<j:\n",
    "        subtract.append(j-i)\n",
    "    elif i>j:\n",
    "        subtract.append(i-j)\n",
    "#print(subtract)  \n",
    "z=subtract\n",
    "print(z)\n",
    "sum=0\n",
    "for k in z:\n",
    "    sum+=k\n",
    "print(sum)    \n",
    "    "
   ]
  },
  {
   "cell_type": "code",
   "execution_count": 1,
   "id": "e4749a6b",
   "metadata": {},
   "outputs": [
    {
     "name": "stdout",
     "output_type": "stream",
     "text": [
      "[1, 8, 2, 2, 1, 4, 3, 2]\n"
     ]
    },
    {
     "data": {
      "text/plain": [
       "23"
      ]
     },
     "execution_count": 1,
     "metadata": {},
     "output_type": "execute_result"
    }
   ],
   "source": [
    "list1 = [5,12,5,6,2,6,7,8]\n",
    "list2 = [6,4,3,8,1,2,4,6]\n",
    "subtract=list()\n",
    "for i,j in zip(list1,list2):\n",
    "    if i<j:\n",
    "        subtract.append(j-i)\n",
    "    elif i>j:\n",
    "        subtract.append(i-j)\n",
    "print(subtract)  \n",
    "sum(subtract)"
   ]
  },
  {
   "cell_type": "code",
   "execution_count": null,
   "id": "2c9327fa",
   "metadata": {},
   "outputs": [],
   "source": []
  }
 ],
 "metadata": {
  "kernelspec": {
   "display_name": "Python 3 (ipykernel)",
   "language": "python",
   "name": "python3"
  },
  "language_info": {
   "codemirror_mode": {
    "name": "ipython",
    "version": 3
   },
   "file_extension": ".py",
   "mimetype": "text/x-python",
   "name": "python",
   "nbconvert_exporter": "python",
   "pygments_lexer": "ipython3",
   "version": "3.9.13"
  }
 },
 "nbformat": 4,
 "nbformat_minor": 5
}
