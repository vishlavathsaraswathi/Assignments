{
 "cells": [
  {
   "cell_type": "markdown",
   "id": "a8e7b5bb",
   "metadata": {},
   "source": [
    "#### 1.\tCreate Menu using dictionary . Dictionary of Items along with prices. "
   ]
  },
  {
   "cell_type": "code",
   "execution_count": 1,
   "id": "1a0c6023",
   "metadata": {},
   "outputs": [],
   "source": [
    "menu={\"Idli\":35,\"Dosa\":35,\"Bonda\":30,\"Puri\":50,\"Parota\":60,\"Chapati\":60,\"Veg Biryani\":120,\"Chicken Biryani\":150,\\\n",
    "           \"Mutton Biryani\":250}"
   ]
  },
  {
   "cell_type": "markdown",
   "id": "f6f3ee62",
   "metadata": {},
   "source": [
    "#### 2.\tCreate Tables info using Dictionary. Dictionary of Table Number with capacity"
   ]
  },
  {
   "cell_type": "code",
   "execution_count": 2,
   "id": "d77623aa",
   "metadata": {},
   "outputs": [],
   "source": [
    "Table_Seatcapacity={'table1':2,'table2':4,'table3':6,'table4':8,'table5':10,'table6':12}"
   ]
  },
  {
   "cell_type": "markdown",
   "id": "ca8df8bd",
   "metadata": {},
   "source": [
    "#### 3.\tCreate Table occupied dictionary using table number and occupied or not. "
   ]
  },
  {
   "cell_type": "code",
   "execution_count": 3,
   "id": "18fbf904",
   "metadata": {},
   "outputs": [],
   "source": [
    "Table_Occupied={'table1':False,'table2':False,'table3':False,\\\n",
    "                'table4':False,'table5':False,'table6':False}"
   ]
  },
  {
   "cell_type": "markdown",
   "id": "f4b61591",
   "metadata": {},
   "source": [
    "#### 4.\tCreate Waiter info using Dictionary. Dictionary with waiterID, Table numbers waiter handles in list. "
   ]
  },
  {
   "cell_type": "code",
   "execution_count": 4,
   "id": "6969859c",
   "metadata": {},
   "outputs": [],
   "source": [
    "Waiter={'waiter1':['table2','table4','table6'],'waiter2':['table1','table3','table5'],'waiter3':['table8','table1','table2']}"
   ]
  },
  {
   "cell_type": "markdown",
   "id": "b05bf03f",
   "metadata": {},
   "source": [
    "#### 5.\tCreate a function to display the Menu as good as Possible. (Organized)"
   ]
  },
  {
   "cell_type": "code",
   "execution_count": 5,
   "id": "683a8e1b",
   "metadata": {},
   "outputs": [
    {
     "name": "stdout",
     "output_type": "stream",
     "text": [
      "                              welcome to resturant                              \n",
      "****************************************************************************************************\n",
      "Idli : Rs35\n",
      "\n",
      "Dosa : Rs35\n",
      "\n",
      "Bonda : Rs30\n",
      "\n",
      "Puri : Rs50\n",
      "\n",
      "Parota : Rs60\n",
      "\n",
      "Chapati : Rs60\n",
      "\n",
      "Veg Biryani : Rs120\n",
      "\n",
      "Chicken Biryani : Rs150\n",
      "\n",
      "Mutton Biryani : Rs250\n",
      "\n",
      "Soft Drinks:\n",
      "\n",
      "Thumpsup : Rs30\n",
      "\n",
      "Sprite : Rs30\n",
      "\n",
      "Ice Cream : Rs50\n",
      "\n",
      "Gulab Jamun : Rs70\n",
      "\n",
      "Water : Rs40\n",
      "\n",
      "****************************************************************************************************\n"
     ]
    }
   ],
   "source": [
    "def menucard():\n",
    "    menu1={\"Idli\":35,\"Dosa\":35,\"Bonda\":30,\"Puri\":50,\"Parota\":60,\"Chapati\":60,\"Veg Biryani\":120,\"Chicken Biryani\":150,\"Mutton Biryani\":250}\n",
    "    menu2={\"Thumpsup\":30,\"Sprite\":30,\"Ice Cream\":50,\"Gulab Jamun\":70,\"Water\":40}\n",
    "    text=\"welcome to resturant\"\n",
    "    x=text.center(80)\n",
    "    print(x)\n",
    "    print(\"*\"*100)\n",
    "    for i in menu1:\n",
    "        values=menu1.get(str(i))\n",
    "        print(f\"{i} : Rs{values}\\n\")\n",
    "    \n",
    "    print(\"Soft Drinks:\")\n",
    "    print()\n",
    "    \n",
    "    for i in menu2:\n",
    "        values=menu2.get(str(i))\n",
    "        print(f\"{i} : Rs{values}\\n\")\n",
    "        \n",
    "    print(\"*\"*100)    \n",
    "        \n",
    "menucard()"
   ]
  },
  {
   "cell_type": "markdown",
   "id": "ef41368a",
   "metadata": {},
   "source": [
    "#### 6.\tCreate a function to assign a table based on capacity. Function should take, Number of People, Check each table capacity and if table capacity>=People and not occupied assign the table and mark table as occupied. Note: Table capacity should be as optimum as possible. If 2 people comes don’t assign table of 10 capacity. \n"
   ]
  },
  {
   "cell_type": "code",
   "execution_count": 6,
   "id": "abf3457a",
   "metadata": {},
   "outputs": [],
   "source": [
    "#c=int(input(\"Enter number of customers\"))\n",
    "def table_capacity(c):\n",
    "    flag=0\n",
    "    if c>=1:\n",
    "        if c in Table_Seatcapacity.values():\n",
    "            print(c) \n",
    "            for k,d in Table_Seatcapacity.items():\n",
    "                if c==d:\n",
    "                    table1=k\n",
    "                    if Table_Occupied[table1]==False:\n",
    "                        print(\"Go to\",table1)\n",
    "                        Table_Occupied[table1]=True\n",
    "                        print(\"Occupied:\",Table_Occupied)\n",
    "                        flag=1\n",
    "                        break\n",
    "        else:\n",
    "            for k,d in Table_Seatcapacity.items():\n",
    "                if d>c:\n",
    "                    table1=k\n",
    "                    if Table_Occupied[table1]==False:\n",
    "                        print(\"Go to\",table1)\n",
    "                        Table_Occupied[table1]=True\n",
    "                        print(\"Occupied:\",Table_Occupied)\n",
    "                        flag=1\n",
    "                        break\n",
    "        if flag==0:\n",
    "            print(\"Seating capacity is not available\")\n",
    "    else:\n",
    "        print(\"Please enter valid number of customers\")\n",
    "        \n",
    "#table_capacity(c)       "
   ]
  },
  {
   "cell_type": "markdown",
   "id": "a94eb92e",
   "metadata": {},
   "source": [
    "#### 7.\tCreate a function to take the order, (Allow to enter any number of orders)."
   ]
  },
  {
   "cell_type": "code",
   "execution_count": 7,
   "id": "072d3887",
   "metadata": {},
   "outputs": [
    {
     "name": "stdout",
     "output_type": "stream",
     "text": [
      "date and time = 23/04/2023 19:35:07\n",
      "{'Dosa': 35, 'Idli': 35, 'Puri': 50}\n"
     ]
    }
   ],
   "source": [
    "def orderFunction(*args):\n",
    "    global now,time,n,t1\n",
    "    menuOrder={\"Idli\":35,\"Dosa\":35,\"Bonda\":30,\"Puri\":50,\"Parota\":60,\"Chapati\":60,\"Veg Biryani\":120,\"Chicken Biryani\":150,\\\n",
    "           \"Mutton Biryani\":250}\n",
    "    order_dict={}\n",
    "    \n",
    "    from datetime import datetime\n",
    "    now = datetime.now()\n",
    "    dt_string = now.strftime(\"%d/%m/%Y %H:%M:%S\")\n",
    "    print(\"date and time =\", dt_string)\n",
    "    \n",
    "    for i in args:\n",
    "        order_dict[i]=menuOrder[i]\n",
    "    return order_dict    \n",
    "\n",
    "order1=orderFunction(\"Dosa\",\"Idli\",\"Puri\")\n",
    "print(order1)"
   ]
  },
  {
   "cell_type": "markdown",
   "id": "a06ddfc8",
   "metadata": {},
   "source": [
    "#### 8.\tCreate a function to generate bill, which should show itemized bill and total bill along with GST, WaiterID, table number, time of Order, Restaurant Name on Top"
   ]
  },
  {
   "cell_type": "code",
   "execution_count": 8,
   "id": "a51e7289",
   "metadata": {},
   "outputs": [
    {
     "name": "stdout",
     "output_type": "stream",
     "text": [
      "Enter number of customers2\n",
      "2\n",
      "Go to table1\n",
      "Occupied: {'table1': True, 'table2': False, 'table3': False, 'table4': False, 'table5': False, 'table6': False}\n",
      "\n",
      "\n",
      " How many portions for each one in order1: 1\n",
      "\n",
      " How many portions for each one in order1: 1\n",
      "\n",
      " How many portions for each one in order1: 1\n",
      "\n",
      "order date and time = 23/04/2023 19:35:24\n",
      "\n",
      "Enter GST rate%:18\n",
      "\n",
      "Enter Tip Amount: Rs10\n",
      "\n",
      "\n",
      "total bill: Rs151.6\n",
      "\n",
      "**************************************************************************************************** \n",
      "Thanks for the order. Enjoy your meal\n"
     ]
    }
   ],
   "source": [
    "from datetime import datetime\n",
    "# datetime object containing current date and time\n",
    "now = datetime.now()\n",
    "dt_string = now.strftime(\"%d/%m/%Y %H:%M:%S\")\n",
    "\n",
    "status,price=\"y\",0\n",
    "def bill_generation(order1):        \n",
    "    global status,price\n",
    "    \n",
    "    c=int(input(\"Enter number of customers\"))\n",
    "    t1=table_capacity(c)\n",
    "    print()\n",
    "       \n",
    "    if status.lower()==\"y\":    \n",
    "        try:\n",
    "            for i in order1:\n",
    "                portions=int(input(\"\\n How many portions for each one in order1: \")) \n",
    "                values=order1.get(i)\n",
    "                price=price+(values*portions)\n",
    "        except:\n",
    "            print(\"Incorrect input\")\n",
    "            return selection(order1)   \n",
    "\n",
    "    print()    \n",
    "    print(\"order date and time =\", dt_string)\n",
    "    print()    \n",
    "    gst=float(input(\"Enter GST rate%:\"))\n",
    "    print()\n",
    "    tax=(gst/100)*price\n",
    "    tip=int(input(\"Enter Tip Amount: Rs\"))\n",
    "    print()\n",
    "    Total_Amount = price+tax+tip\n",
    "    print(f\"\\ntotal bill: Rs{Total_Amount}\\n\")\n",
    "    print(\"*\"*100,\"\\nThanks for the order. Enjoy your meal\")\n",
    "\n",
    "\n",
    "bill_generation(order1)       "
   ]
  },
  {
   "cell_type": "code",
   "execution_count": 9,
   "id": "21126bc5",
   "metadata": {},
   "outputs": [
    {
     "name": "stdout",
     "output_type": "stream",
     "text": [
      "\n",
      " select your menu: idli\n",
      "\n",
      " How many portions?: 1\n",
      "\\Anything else? (y/n): y\n",
      "\n",
      "\n",
      " select your menu: dosa\n",
      "\n",
      " How many portions?: 1\n",
      "\\Anything else? (y/n): n\n",
      "\n",
      "order date and time = 23/04/2023 19:35:45\n",
      "\n",
      "Enter GST rate%:18\n",
      "\n",
      "Enter Tip Amount10\n",
      "\n",
      "\n",
      "total bill: Rs92.6\n",
      "\n",
      "**************************************************************************************************** \n",
      "Thanks for the order. Enjoy your meal\n"
     ]
    }
   ],
   "source": [
    "#here if we take menu inside the selection function and generating the bill\n",
    "\n",
    "\n",
    "from datetime import datetime\n",
    "# datetime object containing current date and time\n",
    "now = datetime.now()\n",
    "dt_string = now.strftime(\"%d/%m/%Y %H:%M:%S\")\n",
    "#print(\"date and time =\", dt_string)\n",
    "#print()\n",
    "\n",
    "status,price,num1 =\"y\",0,0\n",
    "def selection():\n",
    "    menu={\"Idli\":35,\"Dosa\":35,\"Bonda\":30,\"Puri\":50,\"Parota\":60,\"Chapati\":60,\"Veg Biryani\":120,\"Chicken Biryani\":150,\\\n",
    "           \"Mutton Biryani\":250}\n",
    "\n",
    "    global status,price,num1\n",
    "    if status.lower()==\"y\":    \n",
    "        try:\n",
    "            num1=input(\"\\n select your menu: \").title()\n",
    "            portions=int(input(\"\\n How many portions?: \")) \n",
    "            values=menu.get(num1)\n",
    "\n",
    "            if num1 in menu :\n",
    "                status=input(\"\\Anything else? (y/n): \")\n",
    "                print()\n",
    "                price=price+(menu.get(num1)*portions)\n",
    "                \n",
    "            else:\n",
    "                print(\"Don't have item\")\n",
    "            return selection()\n",
    "        except:\n",
    "            print(\"Incorrect input\")\n",
    "            return selection()\n",
    "        \n",
    "    print(\"order date and time =\", dt_string)\n",
    "    print()    \n",
    "    gst=float(input(\"Enter GST rate%:\"))\n",
    "    print()\n",
    "    tax=(gst/100)*price\n",
    "    tip=int(input(\"Enter Tip Amount\"))\n",
    "    print()\n",
    "    Total_Amount = price+tax+tip\n",
    "    print(f\"\\ntotal bill: Rs{Total_Amount}\\n\")\n",
    "    print(\"*\"*100,\"\\nThanks for the order. Enjoy your meal\")\n",
    "            \n",
    "selection()       "
   ]
  },
  {
   "cell_type": "code",
   "execution_count": 10,
   "id": "6c52fc55",
   "metadata": {},
   "outputs": [
    {
     "name": "stdout",
     "output_type": "stream",
     "text": [
      "date and time = 23/04/2023 19:36:05\n",
      "\n",
      "Menu1 : {'Idli': 35, 'Dosa': 35, 'Bonda': 30, 'Puri': 50, 'Parota': 60, 'Chapati': 60, 'Veg Biryani': 120, 'Chicken Biryani': 150, 'Mutton Biryani': 250}\n",
      "\n",
      " select your menu: idli\n",
      "\n",
      " How many portions?: 1\n",
      "Menu2 : {'Thumpsup': 30, 'Sprite': 30, 'Ice Cream': 50, 'Gulab Jamun': 70, 'Water': 40}\n",
      "Do you want any item from menu2(Y/N)?y\n",
      "Add on menu2 :water\n",
      "How many portions ?: 1\n",
      "\\Anything else? (y/n): n\n",
      "Enter GST rate%:18\n",
      "\n",
      "Enter Tip Amount10\n",
      "\n",
      "\n",
      "total bill: Rs88.5\n",
      "\n"
     ]
    }
   ],
   "source": [
    "#here we have two different menu cards and generating the bill \n",
    "\n",
    "from datetime import datetime\n",
    "# datetime object containing current date and time\n",
    "now = datetime.now()\n",
    "dt_string = now.strftime(\"%d/%m/%Y %H:%M:%S\")\n",
    "print(\"date and time =\", dt_string)\n",
    "print()\n",
    "\n",
    "\n",
    "status,price,num1,num2 =\"y\",0,0,0\n",
    "def selection():\n",
    "    menu1={\"Idli\":35,\"Dosa\":35,\"Bonda\":30,\"Puri\":50,\"Parota\":60,\"Chapati\":60,\"Veg Biryani\":120,\"Chicken Biryani\":150,\\\n",
    "           \"Mutton Biryani\":250}\n",
    "    \n",
    "    menu2={\"Thumpsup\":30,\"Sprite\":30,\"Ice Cream\":50,\"Gulab Jamun\":70,\"Water\":40}\n",
    "    \n",
    "    global status,price,num1\n",
    "    if status.lower()==\"y\":    \n",
    "        try:\n",
    "            print(\"Menu1 :\",menu1)\n",
    "            num1=input(\"\\n select your menu: \").title()\n",
    "            portions=int(input(\"\\n How many portions?: \")) \n",
    "            values=menu1.get(num1)\n",
    "\n",
    "            if num1 in menu1 :\n",
    "                print(\"Menu2 :\",menu2)\n",
    "                if input(\"Do you want any item from menu2(Y/N)?\").upper()=='Y':\n",
    "                    num2=input(\"Add on menu2 :\").title()\n",
    "                    portions=int(input(\"How many portions ?: \"))\n",
    "                    values=menu1.get(num2)\n",
    "                    \n",
    "                    if num2 in menu2:\n",
    "                        status=input(\"\\Anything else? (y/n): \")\n",
    "                        #price=price+(menu1.get(num1)*portions)\n",
    "                        price=price+((menu1.get(num1)*portions)+(menu2.get(num2)*portions))  \n",
    "                    \n",
    "             \n",
    "                else:\n",
    "                    status=input(\"\\Anything else? (y/n): \")\n",
    "                    price=price+(menu1.get(num1)*portions)\n",
    "                return selection()\n",
    "            else:\n",
    "                print(\"Don't have item\")\n",
    "            return selection()\n",
    "        except:\n",
    "            print(\"Incorrect input\")\n",
    "            return selection()\n",
    "    gst=float(input(\"Enter GST rate%:\"))\n",
    "    print()\n",
    "    tax=(gst/100)*price\n",
    "    tip=int(input(\"Enter Tip Amount\"))\n",
    "    print()\n",
    "    Total_Amount = price+tax\n",
    "    print(f\"\\ntotal bill: Rs{Total_Amount}\\n\")\n",
    "            \n",
    "selection()            "
   ]
  },
  {
   "cell_type": "markdown",
   "id": "e1f26ce6",
   "metadata": {},
   "source": [
    "#### feedback form"
   ]
  },
  {
   "cell_type": "code",
   "execution_count": 11,
   "id": "033c5cc4",
   "metadata": {},
   "outputs": [
    {
     "name": "stdout",
     "output_type": "stream",
     "text": [
      "Enter your namesai\n",
      "Enter your phone number: 8687452396\n",
      "8687452396\n",
      "\n",
      "Quality_of_food: 1.Excellent 2.Good 3.Average 4.Bad :1\n",
      "\n",
      "Service_providedby_Rest:1.Excellent 2.Good 3.Average 4.Bad :2\n",
      "\n",
      "Any comments/Suggestion:\n",
      "good\n",
      "\n",
      "Thanks for your valuable feedback\n"
     ]
    }
   ],
   "source": [
    "def feedback_Form():\n",
    "    name = input(\"Enter your name\")\n",
    "    \n",
    "    while True:\n",
    "        phone_Number = (input(\"Enter your phone number: \"))\n",
    "        if phone_Number.isdigit() and len(phone_Number)==10:\n",
    "            print(phone_Number)\n",
    "            break\n",
    "    print()        \n",
    "    Quality_of_food = input(\"Quality_of_food: 1.Excellent 2.Good 3.Average 4.Bad :\")\n",
    "    print()\n",
    "    Service_providedby_Rest = input(\"Service_providedby_Rest:1.Excellent 2.Good 3.Average 4.Bad :\")\n",
    "    print()\n",
    "    Suggestions = input(\"Any comments/Suggestion:\\n\")\n",
    "    print()\n",
    "    print(\"Thanks for your valuable feedback\")\n",
    "\n",
    "feedback_Form()   "
   ]
  },
  {
   "cell_type": "code",
   "execution_count": 12,
   "id": "998d3442",
   "metadata": {},
   "outputs": [],
   "source": [
    "def order_Information(*args):\n",
    "    with open(\"Restaurant_info.txt\",\"a\") as ri:\n",
    "        for i in args:\n",
    "            ri.write(str(i))\n",
    "            ri.write(\"\\n\")"
   ]
  },
  {
   "cell_type": "code",
   "execution_count": null,
   "id": "dccde269",
   "metadata": {},
   "outputs": [],
   "source": []
  },
  {
   "cell_type": "code",
   "execution_count": null,
   "id": "e0ae8bf8",
   "metadata": {},
   "outputs": [],
   "source": []
  }
 ],
 "metadata": {
  "kernelspec": {
   "display_name": "Python 3 (ipykernel)",
   "language": "python",
   "name": "python3"
  },
  "language_info": {
   "codemirror_mode": {
    "name": "ipython",
    "version": 3
   },
   "file_extension": ".py",
   "mimetype": "text/x-python",
   "name": "python",
   "nbconvert_exporter": "python",
   "pygments_lexer": "ipython3",
   "version": "3.9.13"
  }
 },
 "nbformat": 4,
 "nbformat_minor": 5
}
